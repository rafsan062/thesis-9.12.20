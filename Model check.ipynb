{
 "cells": [
  {
   "cell_type": "code",
   "execution_count": 15,
   "metadata": {},
   "outputs": [],
   "source": [
    "import torch \n",
    "import torch.nn as nn"
   ]
  },
  {
   "cell_type": "code",
   "execution_count": 18,
   "metadata": {},
   "outputs": [
    {
     "name": "stdout",
     "output_type": "stream",
     "text": [
      "Inp size torch.Size([432, 7, 5])\n",
      "Out size torch.Size([432, 6])\n",
      "tensor([-0.0235, -0.0566, -0.0040, -0.1477,  0.0189,  0.0549], device='cuda:0',\n",
      "       grad_fn=<SelectBackward>)\n"
     ]
    }
   ],
   "source": [
    "class Model(nn.Module):\n",
    "    def __init__(self, input_size, lstm_hidden_size, linear_hidden_size, output_size, dropout):\n",
    "        super(Model, self).__init__()\n",
    "        self.input_size = input_size\n",
    "        self.lstm_hidden_size = lstm_hidden_size\n",
    "        self.output_size = output_size\n",
    "        self.linear_hidden_size = linear_hidden_size\n",
    "        self.dropout_lstm = dropout\n",
    "        self.relu = nn.ReLU()\n",
    "        self.output_size = output_size\n",
    "        self.dropout_linear = nn.Dropout(p = dropout)\n",
    "        \n",
    "        self.lstm = nn.LSTM(\n",
    "            input_size = self.input_size,\n",
    "            hidden_size = self.lstm_hidden_size,\n",
    "            dropout = self.dropout_lstm,\n",
    "            batch_first = True\n",
    "        )\n",
    "        \n",
    "        self.linear_1 = nn.Linear(self.lstm_hidden_size, self.linear_hidden_size)\n",
    "        self.linear_2 = nn.Linear(self.linear_hidden_size, self.output_size)\n",
    "    \n",
    "        \n",
    "    def forward(self, sequences):\n",
    "        lstm_out, _ = self.lstm(sequences)\n",
    "        \n",
    "        z1 = self.linear_1(lstm_out[:, -1, :])\n",
    "        a1 = self.dropout_linear(self.relu(z1))\n",
    "        \n",
    "        y_pred = self.linear_2(a1)\n",
    "        return y_pred\n",
    "    \n",
    "mymodel = Model(5, 32, 32, 6, 0.5).cuda()\n",
    "inps = torch.randn(432, 7, 5).cuda()   #input\n",
    "print('Inp size', inps.shape)\n",
    "out = mymodel.forward(inps)\n",
    "print('Out size',out.shape)\n",
    "print(out[0])"
   ]
  },
  {
   "cell_type": "code",
   "execution_count": 4,
   "metadata": {},
   "outputs": [],
   "source": [
    "#check1 = torch.randn(7,1)\n",
    "#print(check1)\n",
    "#check2 = torch.randn(7,1)\n",
    "#loss = nn.MSELoss()(check1,check2)\n",
    "#loss"
   ]
  },
  {
   "cell_type": "code",
   "execution_count": null,
   "metadata": {},
   "outputs": [],
   "source": []
  },
  {
   "cell_type": "code",
   "execution_count": 14,
   "metadata": {},
   "outputs": [],
   "source": [
    "#import math\n",
    "#def roundup20(x):\n",
    "    #return int(math.ceil(x / 20.0)) * 20"
   ]
  },
  {
   "cell_type": "code",
   "execution_count": 13,
   "metadata": {},
   "outputs": [
    {
     "data": {
      "text/plain": [
       "440"
      ]
     },
     "execution_count": 13,
     "metadata": {},
     "output_type": "execute_result"
    }
   ],
   "source": [
    "#roundup20(421)"
   ]
  },
  {
   "cell_type": "code",
   "execution_count": null,
   "metadata": {},
   "outputs": [],
   "source": []
  }
 ],
 "metadata": {
  "kernelspec": {
   "display_name": "Python 3",
   "language": "python",
   "name": "python3"
  },
  "language_info": {
   "codemirror_mode": {
    "name": "ipython",
    "version": 3
   },
   "file_extension": ".py",
   "mimetype": "text/x-python",
   "name": "python",
   "nbconvert_exporter": "python",
   "pygments_lexer": "ipython3",
   "version": "3.8.3"
  }
 },
 "nbformat": 4,
 "nbformat_minor": 2
}
