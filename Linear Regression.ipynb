{
 "cells": [
  {
   "cell_type": "code",
   "execution_count": 1,
   "metadata": {},
   "outputs": [],
   "source": [
    "import torch\n",
    "import torch.nn as nn\n",
    "from torch.utils.data import Dataset\n",
    "from sklearn import linear_model\n",
    "import pandas as pd\n",
    "import numpy as np\n",
    "import matplotlib.pyplot as plt"
   ]
  },
  {
   "cell_type": "code",
   "execution_count": 2,
   "metadata": {},
   "outputs": [],
   "source": [
    "seed = 42"
   ]
  },
  {
   "cell_type": "code",
   "execution_count": 3,
   "metadata": {},
   "outputs": [
    {
     "data": {
      "text/html": [
       "<div>\n",
       "<style scoped>\n",
       "    .dataframe tbody tr th:only-of-type {\n",
       "        vertical-align: middle;\n",
       "    }\n",
       "\n",
       "    .dataframe tbody tr th {\n",
       "        vertical-align: top;\n",
       "    }\n",
       "\n",
       "    .dataframe thead th {\n",
       "        text-align: right;\n",
       "    }\n",
       "</style>\n",
       "<table border=\"1\" class=\"dataframe\">\n",
       "  <thead>\n",
       "    <tr style=\"text-align: right;\">\n",
       "      <th></th>\n",
       "      <th>Rainfall</th>\n",
       "      <th>Temp</th>\n",
       "      <th>Humidity</th>\n",
       "      <th>Wind Speed</th>\n",
       "      <th>Solar Rad</th>\n",
       "      <th>SO2</th>\n",
       "      <th>NO2</th>\n",
       "      <th>CO</th>\n",
       "      <th>O3</th>\n",
       "      <th>PM2.5</th>\n",
       "      <th>PM10</th>\n",
       "    </tr>\n",
       "    <tr>\n",
       "      <th>Date</th>\n",
       "      <th></th>\n",
       "      <th></th>\n",
       "      <th></th>\n",
       "      <th></th>\n",
       "      <th></th>\n",
       "      <th></th>\n",
       "      <th></th>\n",
       "      <th></th>\n",
       "      <th></th>\n",
       "      <th></th>\n",
       "      <th></th>\n",
       "    </tr>\n",
       "  </thead>\n",
       "  <tbody>\n",
       "    <tr>\n",
       "      <th>2013-01-01</th>\n",
       "      <td>0</td>\n",
       "      <td>17.0</td>\n",
       "      <td>69</td>\n",
       "      <td>0.0</td>\n",
       "      <td>183.69</td>\n",
       "      <td>10.990000</td>\n",
       "      <td>64.80</td>\n",
       "      <td>3.010000</td>\n",
       "      <td>7.770000</td>\n",
       "      <td>178.410000</td>\n",
       "      <td>515.3100</td>\n",
       "    </tr>\n",
       "    <tr>\n",
       "      <th>2013-01-02</th>\n",
       "      <td>0</td>\n",
       "      <td>18.4</td>\n",
       "      <td>68</td>\n",
       "      <td>2.0</td>\n",
       "      <td>203.27</td>\n",
       "      <td>13.410000</td>\n",
       "      <td>71.56</td>\n",
       "      <td>2.730000</td>\n",
       "      <td>7.780000</td>\n",
       "      <td>204.030000</td>\n",
       "      <td>473.8300</td>\n",
       "    </tr>\n",
       "    <tr>\n",
       "      <th>2013-01-03</th>\n",
       "      <td>0</td>\n",
       "      <td>18.9</td>\n",
       "      <td>74</td>\n",
       "      <td>0.0</td>\n",
       "      <td>188.48</td>\n",
       "      <td>10.870000</td>\n",
       "      <td>67.23</td>\n",
       "      <td>2.450000</td>\n",
       "      <td>6.910000</td>\n",
       "      <td>278.170000</td>\n",
       "      <td>462.5000</td>\n",
       "    </tr>\n",
       "    <tr>\n",
       "      <th>2013-01-04</th>\n",
       "      <td>0</td>\n",
       "      <td>19.9</td>\n",
       "      <td>70</td>\n",
       "      <td>2.0</td>\n",
       "      <td>251.45</td>\n",
       "      <td>12.870000</td>\n",
       "      <td>61.54</td>\n",
       "      <td>0.960000</td>\n",
       "      <td>20.990000</td>\n",
       "      <td>191.920000</td>\n",
       "      <td>402.0825</td>\n",
       "    </tr>\n",
       "    <tr>\n",
       "      <th>2013-01-05</th>\n",
       "      <td>0</td>\n",
       "      <td>18.7</td>\n",
       "      <td>60</td>\n",
       "      <td>2.0</td>\n",
       "      <td>362.78</td>\n",
       "      <td>15.033333</td>\n",
       "      <td>55.85</td>\n",
       "      <td>2.366667</td>\n",
       "      <td>19.496667</td>\n",
       "      <td>212.946667</td>\n",
       "      <td>341.6650</td>\n",
       "    </tr>\n",
       "  </tbody>\n",
       "</table>\n",
       "</div>"
      ],
      "text/plain": [
       "            Rainfall  Temp  Humidity  Wind Speed  Solar Rad        SO2    NO2  \\\n",
       "Date                                                                            \n",
       "2013-01-01         0  17.0        69         0.0     183.69  10.990000  64.80   \n",
       "2013-01-02         0  18.4        68         2.0     203.27  13.410000  71.56   \n",
       "2013-01-03         0  18.9        74         0.0     188.48  10.870000  67.23   \n",
       "2013-01-04         0  19.9        70         2.0     251.45  12.870000  61.54   \n",
       "2013-01-05         0  18.7        60         2.0     362.78  15.033333  55.85   \n",
       "\n",
       "                  CO         O3       PM2.5      PM10  \n",
       "Date                                                   \n",
       "2013-01-01  3.010000   7.770000  178.410000  515.3100  \n",
       "2013-01-02  2.730000   7.780000  204.030000  473.8300  \n",
       "2013-01-03  2.450000   6.910000  278.170000  462.5000  \n",
       "2013-01-04  0.960000  20.990000  191.920000  402.0825  \n",
       "2013-01-05  2.366667  19.496667  212.946667  341.6650  "
      ]
     },
     "execution_count": 3,
     "metadata": {},
     "output_type": "execute_result"
    }
   ],
   "source": [
    "df = pd.read_csv('Farmgate all generated data for lstm.csv')\n",
    "df.Date = pd.to_datetime(df.Date, format = '%m/%d/%Y')\n",
    "df = df.set_index('Date')\n",
    "df.head()"
   ]
  },
  {
   "cell_type": "code",
   "execution_count": 4,
   "metadata": {},
   "outputs": [
    {
     "data": {
      "text/html": [
       "<div>\n",
       "<style scoped>\n",
       "    .dataframe tbody tr th:only-of-type {\n",
       "        vertical-align: middle;\n",
       "    }\n",
       "\n",
       "    .dataframe tbody tr th {\n",
       "        vertical-align: top;\n",
       "    }\n",
       "\n",
       "    .dataframe thead th {\n",
       "        text-align: right;\n",
       "    }\n",
       "</style>\n",
       "<table border=\"1\" class=\"dataframe\">\n",
       "  <thead>\n",
       "    <tr style=\"text-align: right;\">\n",
       "      <th></th>\n",
       "      <th>Rainfall</th>\n",
       "      <th>Temp</th>\n",
       "      <th>Humidity</th>\n",
       "      <th>Wind Speed</th>\n",
       "      <th>Solar Rad</th>\n",
       "      <th>SO2</th>\n",
       "      <th>NO2</th>\n",
       "      <th>CO</th>\n",
       "      <th>O3</th>\n",
       "      <th>PM2.5</th>\n",
       "      <th>PM10</th>\n",
       "    </tr>\n",
       "    <tr>\n",
       "      <th>Date</th>\n",
       "      <th></th>\n",
       "      <th></th>\n",
       "      <th></th>\n",
       "      <th></th>\n",
       "      <th></th>\n",
       "      <th></th>\n",
       "      <th></th>\n",
       "      <th></th>\n",
       "      <th></th>\n",
       "      <th></th>\n",
       "      <th></th>\n",
       "    </tr>\n",
       "  </thead>\n",
       "  <tbody>\n",
       "    <tr>\n",
       "      <th>2013-01-01</th>\n",
       "      <td>-0.364317</td>\n",
       "      <td>-2.256193</td>\n",
       "      <td>-0.278817</td>\n",
       "      <td>-1.912226</td>\n",
       "      <td>-2.495260</td>\n",
       "      <td>0.213221</td>\n",
       "      <td>0.810917</td>\n",
       "      <td>1.061040</td>\n",
       "      <td>-0.115261</td>\n",
       "      <td>1.128015</td>\n",
       "      <td>2.972864</td>\n",
       "    </tr>\n",
       "    <tr>\n",
       "      <th>2013-01-02</th>\n",
       "      <td>-0.364317</td>\n",
       "      <td>-1.916256</td>\n",
       "      <td>-0.370281</td>\n",
       "      <td>-0.197390</td>\n",
       "      <td>-2.277708</td>\n",
       "      <td>0.407265</td>\n",
       "      <td>1.061810</td>\n",
       "      <td>0.840476</td>\n",
       "      <td>-0.114491</td>\n",
       "      <td>1.469793</td>\n",
       "      <td>2.637867</td>\n",
       "    </tr>\n",
       "    <tr>\n",
       "      <th>2013-01-03</th>\n",
       "      <td>-0.364317</td>\n",
       "      <td>-1.794850</td>\n",
       "      <td>0.178503</td>\n",
       "      <td>-1.912226</td>\n",
       "      <td>-2.442038</td>\n",
       "      <td>0.203599</td>\n",
       "      <td>0.901105</td>\n",
       "      <td>0.619911</td>\n",
       "      <td>-0.181466</td>\n",
       "      <td>2.458844</td>\n",
       "      <td>2.546365</td>\n",
       "    </tr>\n",
       "    <tr>\n",
       "      <th>2013-01-04</th>\n",
       "      <td>-0.364317</td>\n",
       "      <td>-1.552038</td>\n",
       "      <td>-0.187353</td>\n",
       "      <td>-0.197390</td>\n",
       "      <td>-1.742384</td>\n",
       "      <td>0.363966</td>\n",
       "      <td>0.689925</td>\n",
       "      <td>-0.553808</td>\n",
       "      <td>0.902442</td>\n",
       "      <td>1.308242</td>\n",
       "      <td>2.058427</td>\n",
       "    </tr>\n",
       "    <tr>\n",
       "      <th>2013-01-05</th>\n",
       "      <td>-0.364317</td>\n",
       "      <td>-1.843412</td>\n",
       "      <td>-1.101992</td>\n",
       "      <td>-0.197390</td>\n",
       "      <td>-0.505406</td>\n",
       "      <td>0.537429</td>\n",
       "      <td>0.478744</td>\n",
       "      <td>0.554267</td>\n",
       "      <td>0.787482</td>\n",
       "      <td>1.588745</td>\n",
       "      <td>1.570489</td>\n",
       "    </tr>\n",
       "  </tbody>\n",
       "</table>\n",
       "</div>"
      ],
      "text/plain": [
       "            Rainfall      Temp  Humidity  Wind Speed  Solar Rad       SO2  \\\n",
       "Date                                                                        \n",
       "2013-01-01 -0.364317 -2.256193 -0.278817   -1.912226  -2.495260  0.213221   \n",
       "2013-01-02 -0.364317 -1.916256 -0.370281   -0.197390  -2.277708  0.407265   \n",
       "2013-01-03 -0.364317 -1.794850  0.178503   -1.912226  -2.442038  0.203599   \n",
       "2013-01-04 -0.364317 -1.552038 -0.187353   -0.197390  -1.742384  0.363966   \n",
       "2013-01-05 -0.364317 -1.843412 -1.101992   -0.197390  -0.505406  0.537429   \n",
       "\n",
       "                 NO2        CO        O3     PM2.5      PM10  \n",
       "Date                                                          \n",
       "2013-01-01  0.810917  1.061040 -0.115261  1.128015  2.972864  \n",
       "2013-01-02  1.061810  0.840476 -0.114491  1.469793  2.637867  \n",
       "2013-01-03  0.901105  0.619911 -0.181466  2.458844  2.546365  \n",
       "2013-01-04  0.689925 -0.553808  0.902442  1.308242  2.058427  \n",
       "2013-01-05  0.478744  0.554267  0.787482  1.588745  1.570489  "
      ]
     },
     "execution_count": 4,
     "metadata": {},
     "output_type": "execute_result"
    }
   ],
   "source": [
    "df_scaled = (df - df.mean())/ df.std()\n",
    "df_scaled.head()"
   ]
  },
  {
   "cell_type": "code",
   "execution_count": 5,
   "metadata": {},
   "outputs": [
    {
     "data": {
      "text/html": [
       "<div>\n",
       "<style scoped>\n",
       "    .dataframe tbody tr th:only-of-type {\n",
       "        vertical-align: middle;\n",
       "    }\n",
       "\n",
       "    .dataframe tbody tr th {\n",
       "        vertical-align: top;\n",
       "    }\n",
       "\n",
       "    .dataframe thead th {\n",
       "        text-align: right;\n",
       "    }\n",
       "</style>\n",
       "<table border=\"1\" class=\"dataframe\">\n",
       "  <thead>\n",
       "    <tr style=\"text-align: right;\">\n",
       "      <th></th>\n",
       "      <th>Rainfall</th>\n",
       "      <th>Temp</th>\n",
       "      <th>Humidity</th>\n",
       "      <th>Wind Speed</th>\n",
       "      <th>Solar Rad</th>\n",
       "      <th>SO2</th>\n",
       "      <th>NO2</th>\n",
       "      <th>CO</th>\n",
       "      <th>O3</th>\n",
       "      <th>PM2.5</th>\n",
       "      <th>PM10</th>\n",
       "    </tr>\n",
       "  </thead>\n",
       "  <tbody>\n",
       "    <tr>\n",
       "      <th>0</th>\n",
       "      <td>-0.364317</td>\n",
       "      <td>-2.256193</td>\n",
       "      <td>-0.278817</td>\n",
       "      <td>-1.912226</td>\n",
       "      <td>-2.495260</td>\n",
       "      <td>0.213221</td>\n",
       "      <td>0.810917</td>\n",
       "      <td>1.061040</td>\n",
       "      <td>-0.115261</td>\n",
       "      <td>1.128015</td>\n",
       "      <td>2.972864</td>\n",
       "    </tr>\n",
       "    <tr>\n",
       "      <th>1</th>\n",
       "      <td>-0.364317</td>\n",
       "      <td>-1.916256</td>\n",
       "      <td>-0.370281</td>\n",
       "      <td>-0.197390</td>\n",
       "      <td>-2.277708</td>\n",
       "      <td>0.407265</td>\n",
       "      <td>1.061810</td>\n",
       "      <td>0.840476</td>\n",
       "      <td>-0.114491</td>\n",
       "      <td>1.469793</td>\n",
       "      <td>2.637867</td>\n",
       "    </tr>\n",
       "    <tr>\n",
       "      <th>2</th>\n",
       "      <td>-0.364317</td>\n",
       "      <td>-1.794850</td>\n",
       "      <td>0.178503</td>\n",
       "      <td>-1.912226</td>\n",
       "      <td>-2.442038</td>\n",
       "      <td>0.203599</td>\n",
       "      <td>0.901105</td>\n",
       "      <td>0.619911</td>\n",
       "      <td>-0.181466</td>\n",
       "      <td>2.458844</td>\n",
       "      <td>2.546365</td>\n",
       "    </tr>\n",
       "    <tr>\n",
       "      <th>3</th>\n",
       "      <td>-0.364317</td>\n",
       "      <td>-1.552038</td>\n",
       "      <td>-0.187353</td>\n",
       "      <td>-0.197390</td>\n",
       "      <td>-1.742384</td>\n",
       "      <td>0.363966</td>\n",
       "      <td>0.689925</td>\n",
       "      <td>-0.553808</td>\n",
       "      <td>0.902442</td>\n",
       "      <td>1.308242</td>\n",
       "      <td>2.058427</td>\n",
       "    </tr>\n",
       "    <tr>\n",
       "      <th>4</th>\n",
       "      <td>-0.364317</td>\n",
       "      <td>-1.843412</td>\n",
       "      <td>-1.101992</td>\n",
       "      <td>-0.197390</td>\n",
       "      <td>-0.505406</td>\n",
       "      <td>0.537429</td>\n",
       "      <td>0.478744</td>\n",
       "      <td>0.554267</td>\n",
       "      <td>0.787482</td>\n",
       "      <td>1.588745</td>\n",
       "      <td>1.570489</td>\n",
       "    </tr>\n",
       "  </tbody>\n",
       "</table>\n",
       "</div>"
      ],
      "text/plain": [
       "   Rainfall      Temp  Humidity  Wind Speed  Solar Rad       SO2       NO2  \\\n",
       "0 -0.364317 -2.256193 -0.278817   -1.912226  -2.495260  0.213221  0.810917   \n",
       "1 -0.364317 -1.916256 -0.370281   -0.197390  -2.277708  0.407265  1.061810   \n",
       "2 -0.364317 -1.794850  0.178503   -1.912226  -2.442038  0.203599  0.901105   \n",
       "3 -0.364317 -1.552038 -0.187353   -0.197390  -1.742384  0.363966  0.689925   \n",
       "4 -0.364317 -1.843412 -1.101992   -0.197390  -0.505406  0.537429  0.478744   \n",
       "\n",
       "         CO        O3     PM2.5      PM10  \n",
       "0  1.061040 -0.115261  1.128015  2.972864  \n",
       "1  0.840476 -0.114491  1.469793  2.637867  \n",
       "2  0.619911 -0.181466  2.458844  2.546365  \n",
       "3 -0.553808  0.902442  1.308242  2.058427  \n",
       "4  0.554267  0.787482  1.588745  1.570489  "
      ]
     },
     "execution_count": 5,
     "metadata": {},
     "output_type": "execute_result"
    }
   ],
   "source": [
    "df_scaled.reset_index(inplace = True)\n",
    "df_scaled = df_scaled.drop('Date', 1)\n",
    "df_scaled.head()"
   ]
  },
  {
   "cell_type": "code",
   "execution_count": 6,
   "metadata": {},
   "outputs": [
    {
     "name": "stdout",
     "output_type": "stream",
     "text": [
      "(2191, 11)\n"
     ]
    }
   ],
   "source": [
    "array = df_scaled.iloc[:, 0:12].values\n",
    "print(array.shape)"
   ]
  },
  {
   "cell_type": "code",
   "execution_count": 7,
   "metadata": {},
   "outputs": [],
   "source": [
    "X_array = array[:, 0:5]\n",
    "y_array = array[:, 5:12]"
   ]
  },
  {
   "cell_type": "code",
   "execution_count": 8,
   "metadata": {},
   "outputs": [],
   "source": [
    "class AirMeteoroDataset(Dataset):\n",
    "    def __init__(self):\n",
    "        self.len = X_array.shape[0]\n",
    "        self.X_data = torch.from_numpy(X_array)\n",
    "        self.y_data = torch.from_numpy(y_array)\n",
    "\n",
    "    def __getitem__(self, index):\n",
    "        return self.X_data[index], self.y_data[index]\n",
    "\n",
    "    def __len__(self):\n",
    "        return self.len"
   ]
  },
  {
   "cell_type": "code",
   "execution_count": 9,
   "metadata": {},
   "outputs": [],
   "source": [
    "dataset = AirMeteoroDataset()\n",
    "#Dataset split\n",
    "\n",
    "train_size = round(len(dataset) * 0.85)\n",
    "test_size = len(dataset) - train_size\n",
    "\n",
    "train_set, test_set = torch.utils.data.random_split(dataset,[train_size, test_size], generator = torch.Generator().manual_seed(seed))"
   ]
  },
  {
   "cell_type": "code",
   "execution_count": 10,
   "metadata": {},
   "outputs": [],
   "source": [
    "X_train = torch.empty(0, 5).float().cuda()\n",
    "y_train = torch.empty(0, 6).float().cuda()\n",
    "for i, (X_data, y_data) in enumerate(train_set):\n",
    "    X_data = X_data.float().reshape(1, 5).cuda()\n",
    "    X_train = torch.cat((X_train, X_data), 0)\n",
    "    \n",
    "    y_data = y_data.float().reshape(1, 6).cuda()\n",
    "    y_train = torch.cat((y_train, y_data), 0)"
   ]
  },
  {
   "cell_type": "code",
   "execution_count": 11,
   "metadata": {},
   "outputs": [],
   "source": [
    "X_test = torch.empty(0, 5).float().cuda()\n",
    "y_test = torch.empty(0, 6).float().cuda()\n",
    "for i, (X_data, y_data) in enumerate(test_set):\n",
    "    X_data = X_data.float().reshape(1, 5).cuda()\n",
    "    X_test = torch.cat((X_test, X_data), 0)\n",
    "    \n",
    "    y_data = y_data.float().reshape(1, 6).cuda()\n",
    "    y_test = torch.cat((y_test, y_data), 0)"
   ]
  },
  {
   "cell_type": "code",
   "execution_count": 12,
   "metadata": {},
   "outputs": [],
   "source": [
    "X_train = np.array(X_train.cpu())\n",
    "y_train = np.array(y_train.cpu())\n",
    "xy = np.column_stack((X_train, y_train)) \n",
    "df_train = pd.DataFrame(xy)\n",
    "df_train.columns = [\"0\", \"1\", \"2\", \"3\",\"4\",\"5\",\"6\",\"7\",\"8\",\"9\",\"10\"]"
   ]
  },
  {
   "cell_type": "code",
   "execution_count": 13,
   "metadata": {},
   "outputs": [],
   "source": [
    "X_test = np.array(X_test.cpu())\n",
    "y_test = np.array(y_test.cpu())\n",
    "xy = np.column_stack((X_test, y_test)) \n",
    "df_test = pd.DataFrame(xy)\n",
    "df_test.columns = [\"0\", \"1\", \"2\", \"3\",\"4\",\"5\",\"6\",\"7\",\"8\",\"9\",\"10\"]"
   ]
  },
  {
   "cell_type": "code",
   "execution_count": 14,
   "metadata": {},
   "outputs": [
    {
     "data": {
      "text/plain": [
       "LinearRegression()"
      ]
     },
     "execution_count": 14,
     "metadata": {},
     "output_type": "execute_result"
    }
   ],
   "source": [
    "reg_model = linear_model.LinearRegression()\n",
    "reg_model.fit(df_train[[\"0\", \"1\", \"2\", \"3\",\"4\"]], df_train[[\"5\",\"6\",\"7\",\"8\",\"9\",\"10\"]])"
   ]
  },
  {
   "cell_type": "code",
   "execution_count": 15,
   "metadata": {},
   "outputs": [],
   "source": [
    "outputs = reg_model.predict(df_test[[\"0\", \"1\", \"2\", \"3\",\"4\"]])"
   ]
  },
  {
   "cell_type": "code",
   "execution_count": 16,
   "metadata": {},
   "outputs": [],
   "source": [
    "outputs = torch.from_numpy(outputs)\n",
    "y_test = torch.from_numpy(y_test)"
   ]
  },
  {
   "cell_type": "code",
   "execution_count": 17,
   "metadata": {},
   "outputs": [],
   "source": [
    "loss_MSE = nn.MSELoss()\n",
    "MSEloss = loss_MSE(outputs, y_test)"
   ]
  },
  {
   "cell_type": "code",
   "execution_count": 18,
   "metadata": {},
   "outputs": [
    {
     "data": {
      "text/plain": [
       "tensor(0.8512)"
      ]
     },
     "execution_count": 18,
     "metadata": {},
     "output_type": "execute_result"
    }
   ],
   "source": [
    "MSEloss"
   ]
  },
  {
   "cell_type": "code",
   "execution_count": 19,
   "metadata": {},
   "outputs": [
    {
     "data": {
      "text/plain": [
       "torch.Size([329, 6])"
      ]
     },
     "execution_count": 19,
     "metadata": {},
     "output_type": "execute_result"
    }
   ],
   "source": [
    "outputs.shape"
   ]
  },
  {
   "cell_type": "code",
   "execution_count": null,
   "metadata": {},
   "outputs": [],
   "source": []
  }
 ],
 "metadata": {
  "kernelspec": {
   "display_name": "Python 3",
   "language": "python",
   "name": "python3"
  },
  "language_info": {
   "codemirror_mode": {
    "name": "ipython",
    "version": 3
   },
   "file_extension": ".py",
   "mimetype": "text/x-python",
   "name": "python",
   "nbconvert_exporter": "python",
   "pygments_lexer": "ipython3",
   "version": "3.8.3"
  }
 },
 "nbformat": 4,
 "nbformat_minor": 4
}
